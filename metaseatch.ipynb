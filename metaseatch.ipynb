{
 "cells": [
  {
   "cell_type": "code",
   "execution_count": null,
   "metadata": {},
   "outputs": [],
   "source": []
  },
  {
   "cell_type": "markdown",
   "metadata": {},
   "source": [
    "# Graph Input Format\n",
    "The input format is given in the following:\n",
    "1 (0.502987,0.528829) 8 28 102 162 233 360 393 460 500\n",
    "Index (Coordinates) Number_of_Edges edge1 edge2 edge3..."
   ]
  },
  {
   "cell_type": "code",
   "execution_count": 20,
   "metadata": {},
   "outputs": [
    {
     "name": "stdout",
     "output_type": "stream",
     "text": [
      "[(0, 1), (1, 2), (2, 3)] [0, 1, 2, 3]\n",
      "[-1.          0.61666249]\n"
     ]
    },
    {
     "data": {
      "image/png": "[encoded data removed]",
      "text/plain": [
       "<Figure size 640x480 with 1 Axes>"
      ]
     },
     "metadata": {},
     "output_type": "display_data"
    },
    {
     "data": {
      "text/plain": [
       "<networkx.classes.graph.Graph at 0x2674ef2c1d0>"
      ]
     },
     "execution_count": 20,
     "metadata": {},
     "output_type": "execute_result"
    }
   ],
   "source": [
    "import networkx as nx\n",
    "import matplotlib.pyplot as plt\n",
    "#Parsing Graph\n",
    "\n",
    "\n",
    "def parse_graph(filename, viz=False):\n",
    "    G = nx.Graph()\n",
    "    with open(filename,'r') as file:\n",
    "        lines = file.readlines()\n",
    "        vertices = []\n",
    "        edges = []\n",
    "        for line in lines:\n",
    "            line_info = line.split(\" \")\n",
    "            vertex = int(line_info[0].strip())\n",
    "            vertices.append(vertex)\n",
    "            for i in range(1,int(line_info[2].strip())+1):\n",
    "                edges.append((vertex,int(line_info[2+i].strip())))\n",
    "    G.add_nodes_from(vertices)\n",
    "    G.add_edges_from(edges)\n",
    "    print(G.edges,G.nodes)\n",
    "    if(viz):\n",
    "        pos = nx.spring_layout(G)\n",
    "        print(pos[0])\n",
    "        nx.draw(G, pos, with_labels=True)\n",
    "        #nx.draw_shell(G, nlist=[range(5, 10), range(5)], with_labels=True, font_weight='bold')\n",
    "        plt.show()\n",
    "    return G\n",
    "\n",
    "parse_graph(\"tests/simpleTest.txt\",viz=True)\n",
    "            "
   ]
  },
  {
   "cell_type": "markdown",
   "metadata": {},
   "source": [
    "# Graph bipartition\n",
    "Fiduccia–Mattheyses algorithm, improvement over Kernighan Lin, but moves only single vertex at a time O(n) per pass.\n",
    "\n",
    "Datastructure usage\n",
    "Double Linked List. "
   ]
  },
  {
   "cell_type": "markdown",
   "metadata": {},
   "source": [
    "# Multi-start local search \n",
    "Simply restarts local search from a set of randomly generated \n",
    "initial solutions. The best local optimum found is returned as final solution."
   ]
  }
 ],
 "metadata": {
  "kernelspec": {
   "display_name": "MEGDNN",
   "language": "python",
   "name": "python3"
  },
  "language_info": {
   "codemirror_mode": {
    "name": "ipython",
    "version": 3
   },
   "file_extension": ".py",
   "mimetype": "text/x-python",
   "name": "python",
   "nbconvert_exporter": "python",
   "pygments_lexer": "ipython3",
   "version": "3.11.7"
  }
 },
 "nbformat": 4,
 "nbformat_minor": 2
}
