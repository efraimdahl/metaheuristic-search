{
 "cells": [
  {
   "cell_type": "code",
   "execution_count": null,
   "metadata": {},
   "outputs": [],
   "source": []
  },
  {
   "cell_type": "markdown",
   "metadata": {},
   "source": [
    "# Graph Input Format\n",
    "The input format is given in the following:<br>\n",
    "1 (0.502987,0.528829) 8 28 102 162 233 360 393 460 500<br>\n",
    "Index (Coordinates) Number_of_Edges edge1 edge2 edge3..."
   ]
  },
  {
   "cell_type": "code",
   "execution_count": 81,
   "metadata": {},
   "outputs": [
    {
     "data": {
      "image/png": "[encoded data removed]",
      "text/plain": [
       "<Figure size 640x480 with 1 Axes>"
      ]
     },
     "metadata": {},
     "output_type": "display_data"
    },
    {
     "data": {
      "text/plain": [
       "<networkx.classes.graph.Graph at 0x2674e09c1d0>"
      ]
     },
     "execution_count": 81,
     "metadata": {},
     "output_type": "execute_result"
    }
   ],
   "source": [
    "import networkx as nx\n",
    "import matplotlib.pyplot as plt\n",
    "\n",
    "#Show Graph:\n",
    "def vizualize_graph(G):\n",
    "    pos = nx.spring_layout(G)\n",
    "    color_map = [G.nodes[node]['color'] for node in G]   \n",
    "    nx.draw(G, pos, with_labels=True,node_color=color_map)\n",
    "    plt.show()\n",
    "\n",
    "\n",
    "#Parsing Graph\n",
    "def parse_graph(filename, viz=False):\n",
    "    G = nx.Graph()\n",
    "    with open(filename,'r') as file:\n",
    "        lines = file.readlines()\n",
    "        vertices = []\n",
    "        edges = []\n",
    "        color=\"blue\"\n",
    "        for line in lines:\n",
    "            color=\"red\" if color==\"blue\" else \"blue\"\n",
    "            line_info = line.split(\" \")\n",
    "            vertex = int(line_info[0].strip())\n",
    "            vertices.append((vertex,{\"color\":color}))\n",
    "            for i in range(1,int(line_info[2].strip())+1):\n",
    "                edges.append((vertex,int(line_info[2+i].strip())))\n",
    "    G.add_nodes_from(vertices)\n",
    "    G.add_edges_from(edges)\n",
    "    if(viz):\n",
    "        vizualize_graph(G)\n",
    "    return G\n",
    "\n",
    "parse_graph(\"tests/simpleTest.txt\",viz=True)\n",
    "            "
   ]
  },
  {
   "cell_type": "markdown",
   "metadata": {},
   "source": [
    "# Graph bipartition\n",
    "Fiduccia–Mattheyses algorithm, improvement over Kernighan Lin, but moves only single vertex at a time O(n) per pass.\n",
    "\n",
    "Datastructure recommended\n",
    "Array of doubly linked list"
   ]
  },
  {
   "cell_type": "code",
   "execution_count": 88,
   "metadata": {},
   "outputs": [
    {
     "data": {
      "image/png": "[encoded data removed]",
      "text/plain": [
       "<Figure size 640x480 with 1 Axes>"
      ]
     },
     "metadata": {},
     "output_type": "display_data"
    },
    {
     "name": "stdout",
     "output_type": "stream",
     "text": [
      "1\n",
      "A\n",
      "B\n",
      "C\n",
      "D\n"
     ]
    }
   ],
   "source": [
    "class gainBucket:\n",
    "    def __init__(self,gainIndex):\n",
    "        self.next\n",
    "        self.previous\n",
    "\n",
    "def calculateGain(G:nx.Graph,node)->int:\n",
    "    \"\"\"\n",
    "    The gain is calculated by the amount of connections to nodes of the same, and of the other color. \n",
    "    all nodes of the same color subtract from the gain, all nodes of the other color add to the gain\n",
    "\n",
    "    \"\"\"\n",
    "    maxGain = 0\n",
    "    for nd,connected_node in list(G.edges(node)):\n",
    "        if(G.nodes[connected_node]['color']==G.nodes[node]['color']):\n",
    "            maxGain-=1\n",
    "        else:\n",
    "            maxGain+=1\n",
    "    return maxGain\n",
    "\n",
    "\n",
    "    \n",
    "def initializeBuckets(G,lColor='red'):\n",
    "    \"\"\"\n",
    "    Initializes the gain Buckets by calculating the gains expressed.\n",
    "    Takes as input the Graph, and the color of the items in the leftBucket\n",
    "    \"\"\"\n",
    "    maxCard = 0\n",
    "    for vertex in G.nodes:\n",
    "        maxCard = max(maxCard,G.degree[vertex])\n",
    "    lBucket = [[] for i in range(0,maxCard*2+1)]\n",
    "    rBucket = [[] for i in range(0,maxCard*2+1)]\n",
    "    lBucketsize = 0\n",
    "    rBucketsize = 0\n",
    "    #For each node calculate the gain achived by moving the node to the other color, and insert into appropriate index \n",
    "    for vertex in G.nodes:\n",
    "        print(vertex)\n",
    "        gaindex = calculateGain(G,vertex)+maxCard\n",
    "        if(G.nodes[vertex]['color']==lColor):\n",
    "            lBucket[gaindex].append(vertex)\n",
    "            lBucketsize+=1\n",
    "        else:\n",
    "            rBucket[gaindex].append(vertex)\n",
    "            rBucketsize+=1\n",
    "    return lBucket,rBucket,lBucketsize,rBucketsize\n",
    "\n",
    "#Keep the buckets balanced\n",
    "def bucketSelect(lBucket, rBucket,lBucketsize,rBucketsize):\n",
    "    if(lBucketsize>=rBucketsize):\n",
    "        pickBucket = lBucket\n",
    "        receiveBucket = rBucket\n",
    "        pickBucketSize = lBucketsize\n",
    "        receiveBucketSize=rBucketsize\n",
    "    else:\n",
    "        pickBucket = rBucket\n",
    "        receiveBucket = lBucket\n",
    "        pickBucketSize = rBucketsize\n",
    "        receiveBucketSize=lBucketsize\n",
    "    return pickBucket, pickBucketSize, receiveBucket, receiveBucketSize\n",
    "\n",
    "# returns index and gain from maximum possible move\n",
    "def findMaximumGain(bucket):\n",
    "    for i in range(len(bucket),0,-1):\n",
    "        if(bucket[i]!=[]):\n",
    "            gain = i\n",
    "            return gain\n",
    "    return -1        \n",
    "\n",
    "\n",
    "def fm_pass(G, lBucket, rBucket,lBucketsize,rBucketsize,colors=(\"red\",\"blue\")):\n",
    "    \"\"\"\n",
    "    performs a single pass of the Fiduccia–Mattheyses algorithm\n",
    "    \"\"\"\n",
    "    pickBucket, pickBucketSize, receiveBucket, receiveBucketSize = bucketSelect(lBucket, rBucket,lBucketsize,rBucketsize)\n",
    "    maxGain = findMaximumGain(pickBucket)\n",
    "    while(maxNode!=-1):\n",
    "        pickBucket[maxGain].pop\n",
    "        \n",
    "\n",
    "\n",
    "    return\n",
    "\n",
    "def fm_search(G:nx.Graph):\n",
    "    #Calculate maximum cardinality, maximum amount of edges any one vertex has, this is the maximum gain/loss\n",
    "    #initialize the gain bucket as dictionary of lists\n",
    "    lBucket,rBucket,lBucketsize,rBucketsize=initializeBuckets(G)\n",
    "    \n",
    "    G,lBucket,rBucket,cuts = fm_pass(G,lBucket,rBucket,lBucketsize,rBucketsize)\n",
    "    return\n",
    "\n",
    "\n",
    "#G=parse_graph(\"tests/simpleTest.txt\",viz=False)\n",
    "#fm_search(G)\n",
    "\n",
    "#Simple Test\n",
    "vertices = [('A',{\"color\":\"green\",}),('B',{\"color\":\"red\",}),('C',{\"color\":\"green\",}),('D',{\"color\":\"red\",})]\n",
    "edges = [('A','B'),('B','C'),('B','A'),('C','B'),('B','C'),('C','D'),('D','C')]\n",
    "G1 = nx.Graph()\n",
    "G1.add_nodes_from(vertices)\n",
    "G1.add_edges_from(edges)\n",
    "vizualize_graph(G1)\n",
    "\n",
    "print(calculateGain(G1,'A'))\n",
    "assert(calculateGain(G1,'A')==1)\n",
    "assert(calculateGain(G1,'B')==2)\n",
    "assert(calculateGain(G1,'C')==2)\n",
    "assert(calculateGain(G1,'D')==1)\n",
    "\n",
    "assert(initializeBuckets(G1,lColor=\"green\")==([[], [], [], ['A'], ['C']], [[], [], [], ['D'], ['B']],2,2))\n",
    "assert(bucketSelect([[], [], [], ['A'], ['C']], [[], [], [], ['D'], ['B']],2,2)==([[], [], [], ['A'], ['C']],2,[[], [], [], ['D'], ['B']],2))\n",
    "assert(bucketSelect([[], [], [], [], ['C']], [[], [], ['B'], ['D'], ['A']],1,3)==([[], [], ['B'], ['D'], ['A']],3,[[], [], [], [], ['C']],1))\n",
    "assert(bucketSelect([[], [], ['B'], ['A'], ['C']], [[], [], [], ['D'], []],3,1)==([[], [], ['B'], ['A'], ['C']],3,[[], [], [], ['D'], []],1))\n",
    "\n",
    "#fm_search(G1)"
   ]
  },
  {
   "cell_type": "code",
   "execution_count": null,
   "metadata": {},
   "outputs": [
    {
     "data": {
      "image/png": "[encoded data removed]",
      "text/plain": [
       "<Figure size 640x480 with 1 Axes>"
      ]
     },
     "metadata": {},
     "output_type": "display_data"
    },
    {
     "name": "stdout",
     "output_type": "stream",
     "text": [
      "('A', 'B')\n"
     ]
    },
    {
     "ename": "KeyError",
     "evalue": "('A', 'B')",
     "output_type": "error",
     "traceback": [
      "\u001b[1;31m---------------------------------------------------------------------------\u001b[0m",
      "\u001b[1;31mKeyError\u001b[0m                                  Traceback (most recent call last)",
      "Cell \u001b[1;32mIn[58], line 9\u001b[0m\n\u001b[0;32m      6\u001b[0m G1\u001b[38;5;241m.\u001b[39madd_edges_from(edges)\n\u001b[0;32m      7\u001b[0m vizualize_graph(G1)\n\u001b[1;32m----> 9\u001b[0m \u001b[38;5;28mprint\u001b[39m(\u001b[43mcalculateGain\u001b[49m\u001b[43m(\u001b[49m\u001b[43mG1\u001b[49m\u001b[43m,\u001b[49m\u001b[38;5;124;43m'\u001b[39;49m\u001b[38;5;124;43mA\u001b[39;49m\u001b[38;5;124;43m'\u001b[39;49m\u001b[43m)\u001b[49m)\n\u001b[0;32m     10\u001b[0m \u001b[38;5;28;01massert\u001b[39;00m(calculateGain(G1,\u001b[38;5;124m'\u001b[39m\u001b[38;5;124mA\u001b[39m\u001b[38;5;124m'\u001b[39m)\u001b[38;5;241m==\u001b[39m\u001b[38;5;241m1\u001b[39m)\n\u001b[0;32m     11\u001b[0m \u001b[38;5;28;01massert\u001b[39;00m(calculateGain(G1,\u001b[38;5;124m'\u001b[39m\u001b[38;5;124mB\u001b[39m\u001b[38;5;124m'\u001b[39m)\u001b[38;5;241m==\u001b[39m\u001b[38;5;241m2\u001b[39m)\n",
      "Cell \u001b[1;32mIn[57], line 14\u001b[0m, in \u001b[0;36mcalculateGain\u001b[1;34m(G, node)\u001b[0m\n\u001b[0;32m     12\u001b[0m \u001b[38;5;28;01mfor\u001b[39;00m connected_node \u001b[38;5;129;01min\u001b[39;00m \u001b[38;5;28mlist\u001b[39m(G\u001b[38;5;241m.\u001b[39medges(node)):\n\u001b[0;32m     13\u001b[0m     \u001b[38;5;28mprint\u001b[39m(connected_node)\n\u001b[1;32m---> 14\u001b[0m     \u001b[38;5;28;01mif\u001b[39;00m(\u001b[43mG\u001b[49m\u001b[43m[\u001b[49m\u001b[43mconnected_node\u001b[49m\u001b[43m]\u001b[49m[\u001b[38;5;124m'\u001b[39m\u001b[38;5;124mcolor\u001b[39m\u001b[38;5;124m'\u001b[39m]\u001b[38;5;241m==\u001b[39mG[node][\u001b[38;5;124m'\u001b[39m\u001b[38;5;124mcolor\u001b[39m\u001b[38;5;124m'\u001b[39m]):\n\u001b[0;32m     15\u001b[0m         maxGain\u001b[38;5;241m-\u001b[39m\u001b[38;5;241m=\u001b[39m\u001b[38;5;241m1\u001b[39m\n\u001b[0;32m     16\u001b[0m     \u001b[38;5;28;01melse\u001b[39;00m:\n",
      "File \u001b[1;32md:\\Programms\\Anaconda\\envs\\MEGDNN\\Lib\\site-packages\\networkx\\classes\\graph.py:513\u001b[0m, in \u001b[0;36mGraph.__getitem__\u001b[1;34m(self, n)\u001b[0m\n\u001b[0;32m    489\u001b[0m \u001b[38;5;28;01mdef\u001b[39;00m \u001b[38;5;21m__getitem__\u001b[39m(\u001b[38;5;28mself\u001b[39m, n):\n\u001b[0;32m    490\u001b[0m \u001b[38;5;250m    \u001b[39m\u001b[38;5;124;03m\"\"\"Returns a dict of neighbors of node n.  Use: 'G[n]'.\u001b[39;00m\n\u001b[0;32m    491\u001b[0m \n\u001b[0;32m    492\u001b[0m \u001b[38;5;124;03m    Parameters\u001b[39;00m\n\u001b[1;32m   (...)\u001b[0m\n\u001b[0;32m    511\u001b[0m \u001b[38;5;124;03m    AtlasView({1: {}})\u001b[39;00m\n\u001b[0;32m    512\u001b[0m \u001b[38;5;124;03m    \"\"\"\u001b[39;00m\n\u001b[1;32m--> 513\u001b[0m     \u001b[38;5;28;01mreturn\u001b[39;00m \u001b[38;5;28;43mself\u001b[39;49m\u001b[38;5;241;43m.\u001b[39;49m\u001b[43madj\u001b[49m\u001b[43m[\u001b[49m\u001b[43mn\u001b[49m\u001b[43m]\u001b[49m\n",
      "File \u001b[1;32md:\\Programms\\Anaconda\\envs\\MEGDNN\\Lib\\site-packages\\networkx\\classes\\coreviews.py:81\u001b[0m, in \u001b[0;36mAdjacencyView.__getitem__\u001b[1;34m(self, name)\u001b[0m\n\u001b[0;32m     80\u001b[0m \u001b[38;5;28;01mdef\u001b[39;00m \u001b[38;5;21m__getitem__\u001b[39m(\u001b[38;5;28mself\u001b[39m, name):\n\u001b[1;32m---> 81\u001b[0m     \u001b[38;5;28;01mreturn\u001b[39;00m AtlasView(\u001b[38;5;28;43mself\u001b[39;49m\u001b[38;5;241;43m.\u001b[39;49m\u001b[43m_atlas\u001b[49m\u001b[43m[\u001b[49m\u001b[43mname\u001b[49m\u001b[43m]\u001b[49m)\n",
      "\u001b[1;31mKeyError\u001b[0m: ('A', 'B')"
     ]
    }
   ],
   "source": [
    "\n",
    "\n"
   ]
  },
  {
   "cell_type": "markdown",
   "metadata": {},
   "source": [
    "# Multi-start local search \n",
    "Simply restarts local search from a set of randomly generated \n",
    "initial solutions. The best local optimum found is returned as final solution."
   ]
  }
 ],
 "metadata": {
  "kernelspec": {
   "display_name": "MEGDNN",
   "language": "python",
   "name": "python3"
  },
  "language_info": {
   "codemirror_mode": {
    "name": "ipython",
    "version": 3
   },
   "file_extension": ".py",
   "mimetype": "text/x-python",
   "name": "python",
   "nbconvert_exporter": "python",
   "pygments_lexer": "ipython3",
   "version": "3.11.7"
  }
 },
 "nbformat": 4,
 "nbformat_minor": 2
}
