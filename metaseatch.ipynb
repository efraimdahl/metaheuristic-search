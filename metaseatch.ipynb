{
 "cells": [
  {
   "cell_type": "code",
   "execution_count": 21,
   "metadata": {},
   "outputs": [
    {
     "data": {
      "image/png": "[encoded data removed]",
      "text/plain": [
       "<Figure size 640x480 with 1 Axes>"
      ]
     },
     "metadata": {},
     "output_type": "display_data"
    }
   ],
   "source": [
    "import graph_handler as gh\n",
    "import fiduccia as fm\n",
    "import networkx as nx\n",
    "import metaheuristics as mh\n",
    "import numpy as np\n",
    "import bisect\n",
    "MAX_COUNT = 10000\n",
    "G1 = gh.createExampleGraph1()\n",
    "gh.vizualize_graph(G1)"
   ]
  },
  {
   "cell_type": "code",
   "execution_count": 19,
   "metadata": {},
   "outputs": [
    {
     "name": "stdout",
     "output_type": "stream",
     "text": [
      "[1, 1, 0, 0]\n"
     ]
    }
   ],
   "source": [
    "def hemming_distance(p1,p2):\n",
    "    return sum([0 if p1[i]==p2[i] else 1 for i in range (0,len(p1))])\n",
    "\n",
    "def invert_binary_list(p):\n",
    "    return [0 if p[i]==1 else 1 for i in range(0,len(p))]\n",
    "\n",
    "def uniformCrossover(p1,p2):\n",
    "    hd=hemming_distance(p1,p2)\n",
    "    if(hd>len(p1)//2):\n",
    "        p2 = invert_binary_list(p2)\n",
    "    balance = 0\n",
    "    child = [-1]*len(p1)\n",
    "    for i in range(0,len(p1)):\n",
    "        if(abs(balance)>=len(p1)-i):\n",
    "            ci = 0 if balance>0 else 1\n",
    "            incr = 1 if balance<0 else -1\n",
    "            child[i]=ci\n",
    "            balance+=incr\n",
    "        elif(p1[i]==p2[i]):\n",
    "            child[i] = p1[i]\n",
    "            incr = 1 if p1[i]==1 else -1\n",
    "            balance+=incr\n",
    "        else:\n",
    "            apnd = np.random.choice([0,1])\n",
    "            child[i]=1\n",
    "            incr = 1 if apnd==1 else -1\n",
    "            balance+=incr\n",
    "    return child\n",
    "\n",
    "assert(hemming_distance([1,1,1,1,1],[0,0,0,0,0])==5)\n",
    "assert(hemming_distance([1,1,1,1,1],[1,1,1,1,1])==0)\n",
    "assert(hemming_distance([1,1,1,1,1],[0,1,1,0,1])==2)\n",
    "assert(invert_binary_list([1,1,1,1])==[0,0,0,0])\n",
    "assert(invert_binary_list([1,1,0,0])==[0,0,1,1])\n",
    "\n",
    "print(uniformCrossover([1,1,1,1],[0,0,0,0]))\n",
    "\n",
    "assert(uniformCrossover([1,1,0,0],[1,1,0,0])==[1,1,0,0])\n",
    "assert(uniformCrossover([1,1,1,1],[0,0,0,0])==[1,1,0,0]) #This is expected due to the equality constriction (the parents are invalid in this case)\n",
    "assert(uniformCrossover([0,0,0,0],[1,1,1,1])==[0,0,1,1]) #This is expected due to the equality constriction (the parents are invalid in this case)\n"
   ]
  },
  {
   "cell_type": "code",
   "execution_count": 20,
   "metadata": {},
   "outputs": [
    {
     "name": "stdout",
     "output_type": "stream",
     "text": [
      "[['0', '1', '0', '1'], ['0', '1', '1', '0'], ['1', '0', '1', '0'], ['0', '1', '0', '1'], ['1', '0', '1', '0']]\n"
     ]
    },
    {
     "ename": "TypeError",
     "evalue": "object of type 'int' has no len()",
     "output_type": "error",
     "traceback": [
      "\u001b[1;31m---------------------------------------------------------------------------\u001b[0m",
      "\u001b[1;31mTypeError\u001b[0m                                 Traceback (most recent call last)",
      "Cell \u001b[1;32mIn[20], line 27\u001b[0m\n\u001b[0;32m     22\u001b[0m         child \u001b[38;5;241m=\u001b[39m uniformCrossover(p1,p2)\n\u001b[0;32m     25\u001b[0m     \u001b[38;5;66;03m#G, partion, cut = fiduccia.fm_search(G)\u001b[39;00m\n\u001b[1;32m---> 27\u001b[0m \u001b[43mgeneticSearch\u001b[49m\u001b[43m(\u001b[49m\u001b[43mG1\u001b[49m\u001b[43m,\u001b[49m\u001b[38;5;241;43m5\u001b[39;49m\u001b[43m)\u001b[49m \n",
      "Cell \u001b[1;32mIn[20], line 22\u001b[0m, in \u001b[0;36mgeneticSearch\u001b[1;34m(G, population)\u001b[0m\n\u001b[0;32m     20\u001b[0m \u001b[38;5;28;01mwhile\u001b[39;00m p2\u001b[38;5;241m==\u001b[39mp1: \u001b[38;5;66;03m#makes sure parents are distinct\u001b[39;00m\n\u001b[0;32m     21\u001b[0m     p2\u001b[38;5;241m=\u001b[39mnp\u001b[38;5;241m.\u001b[39mrandom\u001b[38;5;241m.\u001b[39mrandint(\u001b[38;5;241m0\u001b[39m,population)\n\u001b[1;32m---> 22\u001b[0m child \u001b[38;5;241m=\u001b[39m \u001b[43muniformCrossover\u001b[49m\u001b[43m(\u001b[49m\u001b[43mp1\u001b[49m\u001b[43m,\u001b[49m\u001b[43mp2\u001b[49m\u001b[43m)\u001b[49m\n",
      "Cell \u001b[1;32mIn[19], line 8\u001b[0m, in \u001b[0;36muniformCrossover\u001b[1;34m(p1, p2)\u001b[0m\n\u001b[0;32m      7\u001b[0m \u001b[38;5;28;01mdef\u001b[39;00m \u001b[38;5;21muniformCrossover\u001b[39m(p1,p2):\n\u001b[1;32m----> 8\u001b[0m     hd\u001b[38;5;241m=\u001b[39m\u001b[43mhemming_distance\u001b[49m\u001b[43m(\u001b[49m\u001b[43mp1\u001b[49m\u001b[43m,\u001b[49m\u001b[43mp2\u001b[49m\u001b[43m)\u001b[49m\n\u001b[0;32m      9\u001b[0m     \u001b[38;5;28;01mif\u001b[39;00m(hd\u001b[38;5;241m>\u001b[39m\u001b[38;5;28mlen\u001b[39m(p1)\u001b[38;5;241m/\u001b[39m\u001b[38;5;241m/\u001b[39m\u001b[38;5;241m2\u001b[39m):\n\u001b[0;32m     10\u001b[0m         p2 \u001b[38;5;241m=\u001b[39m invert_binary_list(p2)\n",
      "Cell \u001b[1;32mIn[19], line 2\u001b[0m, in \u001b[0;36mhemming_distance\u001b[1;34m(p1, p2)\u001b[0m\n\u001b[0;32m      1\u001b[0m \u001b[38;5;28;01mdef\u001b[39;00m \u001b[38;5;21mhemming_distance\u001b[39m(p1,p2):\n\u001b[1;32m----> 2\u001b[0m     \u001b[38;5;28;01mreturn\u001b[39;00m \u001b[38;5;28msum\u001b[39m([\u001b[38;5;241m0\u001b[39m \u001b[38;5;28;01mif\u001b[39;00m p1[i]\u001b[38;5;241m==\u001b[39mp2[i] \u001b[38;5;28;01melse\u001b[39;00m \u001b[38;5;241m1\u001b[39m \u001b[38;5;28;01mfor\u001b[39;00m i \u001b[38;5;129;01min\u001b[39;00m \u001b[38;5;28mrange\u001b[39m (\u001b[38;5;241m0\u001b[39m,\u001b[38;5;28mlen\u001b[39m(p1))])\n",
      "\u001b[1;31mTypeError\u001b[0m: object of type 'int' has no len()"
     ]
    }
   ],
   "source": [
    "\"\"\"\n",
    "The specific genetic algorithm is an incremental (or steady state) GA where there is no\n",
    "explicit notion of generations: each iteration two parents are randomly selected, use\n",
    "uniform crossover to generate one child, do FM local search on the child, let this\n",
    "optimized child compete with the worst solution in the population, if it is better or\n",
    "equal it replaces the worst solution\n",
    "\"\"\"\n",
    "\n",
    "\n",
    "def geneticSearch(G:nx.Graph,population:int):\n",
    "    res = []\n",
    "    counter = 0\n",
    "    #randomly initiate vertices in different colors\n",
    "    pop=[mh.createRandomPartion(G) for i in range(0,population)]\n",
    "    print(pop)\n",
    "    pop.sort(key=gh.getCut)\n",
    "    while (counter<MAX_COUNT):\n",
    "        #randomly select two parents\n",
    "        p1=np.random.randint(0,population)\n",
    "        p2=p1\n",
    "        while p2==p1: #makes sure parents are distinct\n",
    "            p2=np.random.randint(0,population)\n",
    "        child = uniformCrossover(population[p1],population[p2])\n",
    "        \n",
    "        \n",
    "\n",
    "\n",
    "    #G, partion, cut = fiduccia.fm_search(G)\n",
    "\n",
    "geneticSearch(G1,5) "
   ]
  },
  {
   "cell_type": "code",
   "execution_count": null,
   "metadata": {},
   "outputs": [],
   "source": []
  }
 ],
 "metadata": {
  "kernelspec": {
   "display_name": "MEGDNN",
   "language": "python",
   "name": "python3"
  },
  "language_info": {
   "codemirror_mode": {
    "name": "ipython",
    "version": 3
   },
   "file_extension": ".py",
   "mimetype": "text/x-python",
   "name": "python",
   "nbconvert_exporter": "python",
   "pygments_lexer": "ipython3",
   "version": "3.11.7"
  }
 },
 "nbformat": 4,
 "nbformat_minor": 2
}
