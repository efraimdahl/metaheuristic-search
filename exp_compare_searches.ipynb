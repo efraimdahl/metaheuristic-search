{
 "cells": [
  {
   "cell_type": "code",
   "execution_count": 1,
   "metadata": {},
   "outputs": [],
   "source": [
    "import graph_handler \n",
    "import metaheuristics as mh\n",
    "import matplotlib.pyplot as plt"
   ]
  },
  {
   "cell_type": "code",
   "execution_count": 2,
   "metadata": {},
   "outputs": [],
   "source": [
    "def compareByFmPasses(passes = 10000):\n",
    "\n",
    "    graphInit = graph_handler.parse_graph(\"res/Graph500.txt\", False)\n",
    "    mlsCuts = []\n",
    "    ilsCuts = []\n",
    "    geneticCuts = []\n",
    "    for i in range(20):\n",
    "        \n",
    "        _, mlsCut, runTimeMLS = mh.mls(graphInit.copy(), maxFmPasses=passes)\n",
    "        _,_, ilsCut, runTimeILS = mh.ils(graphInit.copy(),startNumberOfMutations=10,  maxFmPasses=passes)\n",
    "        mlsCuts.append(mlsCut)\n",
    "        ilsCuts.append(ilsCut)\n",
    "        geneticCuts.append(0)\n",
    "    return mlsCuts, ilsCuts, geneticCuts\n",
    "\n",
    "mlsCuts, ilsCuts, geneticCuts = compareByFmPasses(passes = 10)\n",
    "\n",
    "#print(graph_handler.getStringBinaryRepresentation(graphInit))\n",
    "#graph_handler.vizualize_graph(graphInit)"
   ]
  },
  {
   "cell_type": "code",
   "execution_count": 3,
   "metadata": {},
   "outputs": [
    {
     "name": "stdout",
     "output_type": "stream",
     "text": [
      "hi\n"
     ]
    },
    {
     "data": {
      "image/png": "[encoded data removed]",
      "text/plain": [
       "<Figure size 432x288 with 1 Axes>"
      ]
     },
     "metadata": {
      "needs_background": "light"
     },
     "output_type": "display_data"
    }
   ],
   "source": [
    "plt.boxplot([mlsCuts, ilsCuts, geneticCuts], labels=[\"mls\", \"ils\", \"genetic\"])\n",
    "plt.savefig(\"res/results/boxplotcomparison\")\n",
    "print(\"hi\")"
   ]
  }
 ],
 "metadata": {
  "kernelspec": {
   "display_name": "uu_courses",
   "language": "python",
   "name": "python3"
  },
  "language_info": {
   "codemirror_mode": {
    "name": "ipython",
    "version": 3
   },
   "file_extension": ".py",
   "mimetype": "text/x-python",
   "name": "python",
   "nbconvert_exporter": "python",
   "pygments_lexer": "ipython3",
   "version": "3.11.5"
  }
 },
 "nbformat": 4,
 "nbformat_minor": 2
}
