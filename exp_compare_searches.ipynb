{
 "cells": [
  {
   "cell_type": "code",
   "execution_count": 1,
   "metadata": {},
   "outputs": [],
   "source": [
    "import graph_handler \n",
    "import metaheuristics as mh\n",
    "import matplotlib.pyplot as plt\n",
    "import pickle"
   ]
  },
  {
   "cell_type": "code",
   "execution_count": 3,
   "metadata": {},
   "outputs": [
    {
     "name": "stdout",
     "output_type": "stream",
     "text": [
      "0\n"
     ]
    }
   ],
   "source": [
    "def compareByFmPasses(passes = 1):\n",
    "\n",
    "    graphInit = graph_handler.parse_graph(\"res/Graph500.txt\", False)\n",
    "    mlsCuts = []\n",
    "    ilsCuts = []\n",
    "    geneticCuts = []\n",
    "    for i in range(1):\n",
    "        print(i)\n",
    "        _,_,_,geneticCut = mh.geneticSearch(graphInit.copy(),  population=50, maxFmPass=passes )\n",
    "        _, mlsCut, runTimeMLS = mh.mls(graphInit.copy(), maxFmPasses=passes)\n",
    "        _,_, ilsCut, runTimeILS = mh.ils(graphInit.copy(),startNumberOfMutations=10,  maxFmPasses=passes)\n",
    "        mlsCuts.append(mlsCut)\n",
    "        ilsCuts.append(ilsCut)\n",
    "        geneticCuts.append(geneticCut)\n",
    "        pickle.dump(mlsCut, open(\"res/results/mls.p\", \"wb\"))\n",
    "    return mlsCuts, ilsCuts, geneticCuts\n",
    "\n",
    "mlsCuts, ilsCuts, geneticCuts = compareByFmPasses(passes = 1)\n",
    "\n",
    "#print(graph_handler.getStringBinaryRepresentation(graphInit))\n"
   ]
  },
  {
   "cell_type": "code",
   "execution_count": 5,
   "metadata": {},
   "outputs": [
    {
     "name": "stdout",
     "output_type": "stream",
     "text": [
      "hi\n"
     ]
    },
    {
     "data": {
      "image/png": "[encoded data removed]",
      "text/plain": [
       "<Figure size 432x288 with 1 Axes>"
      ]
     },
     "metadata": {
      "needs_background": "light"
     },
     "output_type": "display_data"
    }
   ],
   "source": [
    "plt.boxplot([mlsCuts, ilsCuts, geneticCuts], labels=[\"mls\", \"ils\", \"genetic\"])\n",
    "plt.savefig(\"res/results/boxplotcomparison\")\n",
    "print(\"hi\")"
   ]
  }
 ],
 "metadata": {
  "kernelspec": {
   "display_name": "uu_courses",
   "language": "python",
   "name": "python3"
  },
  "language_info": {
   "codemirror_mode": {
    "name": "ipython",
    "version": 3
   },
   "file_extension": ".py",
   "mimetype": "text/x-python",
   "name": "python",
   "nbconvert_exporter": "python",
   "pygments_lexer": "ipython3",
   "version": "3.8.2"
  }
 },
 "nbformat": 4,
 "nbformat_minor": 2
}
