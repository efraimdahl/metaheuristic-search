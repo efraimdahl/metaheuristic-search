{
 "cells": [
  {
   "cell_type": "code",
   "execution_count": 1,
   "metadata": {},
   "outputs": [],
   "source": [
    "import graph_handler \n",
    "import metaheuristics as mh\n",
    "import matplotlib.pyplot as plt\n",
    "import pickle"
   ]
  },
  {
   "cell_type": "code",
   "execution_count": 36,
   "metadata": {},
   "outputs": [
    {
     "name": "stdout",
     "output_type": "stream",
     "text": [
      "0\n",
      "genetic done\n",
      "mls done\n",
      "ils done\n",
      "1\n",
      "genetic done\n",
      "mls done\n",
      "ils done\n"
     ]
    }
   ],
   "source": [
    "def compareByFmPasses(passes = 1, numberOfRunes = 20):\n",
    "\n",
    "    graphInit = graph_handler.parse_graph(\"res/Graph500.txt\", False)\n",
    "    mlsCuts = []\n",
    "    ilsCuts = []\n",
    "    geneticCuts = []\n",
    "    for i in range(numberOfRunes):\n",
    "        print(i)\n",
    "        genRes,_,_ = mh.geneticSearch(graphInit.copy(),  population=50, maxFmPass=passes )\n",
    "        print(\"genetic done\")\n",
    "        _, mlsCutsInOneRun, runTimeMLS = mh.mls(graphInit.copy(), maxFmPasses=passes)\n",
    "        print(\"mls done\")\n",
    "        \n",
    "        _,ilsCutsInOneRun, _, runTimeILS = mh.ils(graphInit.copy(),startNumberOfMutations=10,  maxFmPasses=passes)\n",
    "        print(\"ils done\")\n",
    "     \n",
    "        mlsCuts.append(mlsCutsInOneRun)\n",
    "        ilsCuts.append(ilsCutsInOneRun)\n",
    "        geneticCuts.append(genRes)\n",
    "        \n",
    "        pickle.dump(mlsCuts, open(\"res/results/mls.p\", \"wb\"))\n",
    "        pickle.dump(geneticCuts, open(\"res/results/genetic.p\", \"wb\"))\n",
    "        pickle.dump(ilsCuts, open(\"res/results/ils.p\", \"wb\"))\n",
    "    return mlsCuts, ilsCuts, geneticCuts\n",
    "\n",
    "mlsCuts, ilsCuts, geneticCuts = compareByFmPasses(passes = 1000, numberOfRunes= 2)\n",
    "\n",
    "#print(graph_handler.getStringBinaryRepresentation(graphInit))\n"
   ]
  },
  {
   "cell_type": "code",
   "execution_count": 37,
   "metadata": {},
   "outputs": [],
   "source": [
    "all_mls_cuts = pickle.load(open(\"res/results/mls.p\", \"rb\"))\n",
    "all_ils_cuts = pickle.load(open(\"res/results/ils.p\", \"rb\"))\n",
    "all_genetic_res = pickle.load(open(\"res/results/genetic.p\", \"rb\"))\n"
   ]
  },
  {
   "cell_type": "code",
   "execution_count": 40,
   "metadata": {},
   "outputs": [
    {
     "data": {
      "text/plain": [
       "[15, 22]"
      ]
     },
     "execution_count": 40,
     "metadata": {},
     "output_type": "execute_result"
    }
   ],
   "source": [
    "min_mls_cuts = [x[-1] for x in all_mls_cuts]\n",
    "min_ils_cuts = [x[-1] for x in all_ils_cuts]\n",
    "min_gen_cuts = [x[-1][0] for x in all_genetic_res]\n",
    "\n",
    "\n"
   ]
  },
  {
   "cell_type": "code",
   "execution_count": 41,
   "metadata": {},
   "outputs": [
    {
     "name": "stdout",
     "output_type": "stream",
     "text": [
      "hi\n"
     ]
    },
    {
     "data": {
      "image/png": "[encoded data removed]",
      "text/plain": [
       "<Figure size 432x288 with 1 Axes>"
      ]
     },
     "metadata": {
      "needs_background": "light"
     },
     "output_type": "display_data"
    }
   ],
   "source": [
    "plt.boxplot([min_mls_cuts, min_ils_cuts, min_gen_cuts], labels=[\"mls\", \"ils\", \"genetic\"])\n",
    "plt.savefig(\"res/results/boxplotcomparison\")\n",
    "print(\"hi\")"
   ]
  }
 ],
 "metadata": {
  "kernelspec": {
   "display_name": "uu_courses",
   "language": "python",
   "name": "python3"
  },
  "language_info": {
   "codemirror_mode": {
    "name": "ipython",
    "version": 3
   },
   "file_extension": ".py",
   "mimetype": "text/x-python",
   "name": "python",
   "nbconvert_exporter": "python",
   "pygments_lexer": "ipython3",
   "version": "3.8.2"
  }
 },
 "nbformat": 4,
 "nbformat_minor": 2
}
