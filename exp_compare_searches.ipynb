{
 "cells": [
  {
   "cell_type": "code",
   "execution_count": 1,
   "metadata": {},
   "outputs": [],
   "source": [
    "import graph_handler \n",
    "import metaheuristics as mh\n",
    "import matplotlib.pyplot as plt\n",
    "\n",
    "import pickle\n",
    "import numpy as np\n",
    "import math\n",
    "from scipy.stats import wilcoxon"
   ]
  },
  {
   "cell_type": "code",
   "execution_count": 2,
   "metadata": {},
   "outputs": [
    {
     "name": "stdout",
     "output_type": "stream",
     "text": [
      "0\n",
      "genetic done\n",
      "mls done\n",
      "ils done\n"
     ]
    }
   ],
   "source": [
    "def compareByFmPasses(passes = 1, numberOfRunes = 20):\n",
    "\n",
    "    graphInit = graph_handler.parse_graph(\"res/Graph500.txt\", False)\n",
    "    mlsCuts = []\n",
    "    ilsCuts = []\n",
    "    geneticCuts = []\n",
    "    for i in range(numberOfRunes):\n",
    "        print(i)\n",
    "        _,_,_, genCuts = mh.geneticSearch(graphInit.copy(),  population=50, maxFmPass=passes )\n",
    "        print(\"genetic done\")\n",
    "        _, mlsCutsInOneRun, runTimeMLS = mh.mls(graphInit.copy(), maxFmPasses=passes)\n",
    "        print(\"mls done\")\n",
    "        \n",
    "        _,ilsCutsInOneRun, _, runTimeILS = mh.ils(graphInit.copy(),startNumberOfMutations=10,  maxFmPasses=passes)\n",
    "        print(\"ils done\")\n",
    "     \n",
    "        mlsCuts.append(mlsCutsInOneRun)\n",
    "        ilsCuts.append(ilsCutsInOneRun)\n",
    "        geneticCuts.append(genCuts)\n",
    "        \n",
    "        pickle.dump(mlsCuts, open(\"res/results/mls_2.p\", \"wb\"))\n",
    "        pickle.dump(geneticCuts, open(\"res/results/genetic_2.p\", \"wb\"))\n",
    "        pickle.dump(ilsCuts, open(\"res/results/ils_2.p\", \"wb\"))\n",
    "    return mlsCuts, ilsCuts, geneticCuts\n",
    "\n",
    "mlsCuts, ilsCuts, geneticCuts = compareByFmPasses(passes = 10000, numberOfRunes= 20)\n",
    "\n",
    "#print(graph_handler.getStringBinaryRepresentation(graphInit))\n"
   ]
  },
  {
   "cell_type": "code",
   "execution_count": 6,
   "metadata": {},
   "outputs": [
    {
     "ename": "NameError",
     "evalue": "name 'cuts' is not defined",
     "output_type": "error",
     "traceback": [
      "\u001b[1;31m---------------------------------------------------------------------------\u001b[0m",
      "\u001b[1;31mNameError\u001b[0m                                 Traceback (most recent call last)",
      "\u001b[1;32m~\\AppData\\Local\\Temp/ipykernel_23956/815808849.py\u001b[0m in \u001b[0;36m<module>\u001b[1;34m\u001b[0m\n\u001b[0;32m      1\u001b[0m \u001b[0msum\u001b[0m \u001b[1;33m=\u001b[0m \u001b[1;36m0\u001b[0m\u001b[1;33m\u001b[0m\u001b[1;33m\u001b[0m\u001b[0m\n\u001b[1;32m----> 2\u001b[1;33m \u001b[1;32mfor\u001b[0m \u001b[0mi\u001b[0m \u001b[1;32min\u001b[0m \u001b[0mcuts\u001b[0m\u001b[1;33m:\u001b[0m\u001b[1;33m\u001b[0m\u001b[1;33m\u001b[0m\u001b[0m\n\u001b[0m\u001b[0;32m      3\u001b[0m     \u001b[1;32mfor\u001b[0m \u001b[0mk\u001b[0m \u001b[1;32min\u001b[0m \u001b[0mi\u001b[0m\u001b[1;33m:\u001b[0m\u001b[1;33m\u001b[0m\u001b[1;33m\u001b[0m\u001b[0m\n\u001b[0;32m      4\u001b[0m \u001b[1;33m\u001b[0m\u001b[0m\n\u001b[0;32m      5\u001b[0m         \u001b[0msum\u001b[0m \u001b[1;33m+=\u001b[0m \u001b[0mlen\u001b[0m\u001b[1;33m(\u001b[0m\u001b[0mk\u001b[0m\u001b[1;33m)\u001b[0m\u001b[1;33m\u001b[0m\u001b[1;33m\u001b[0m\u001b[0m\n",
      "\u001b[1;31mNameError\u001b[0m: name 'cuts' is not defined"
     ]
    }
   ],
   "source": []
  },
  {
   "cell_type": "code",
   "execution_count": 5,
   "metadata": {},
   "outputs": [
    {
     "data": {
      "text/plain": [
       "102"
      ]
     },
     "execution_count": 5,
     "metadata": {},
     "output_type": "execute_result"
    }
   ],
   "source": [
    "sum = 0\n",
    "for i in geneticCuts:\n",
    "    for k in i:\n",
    "        \n",
    "        sum += len(k)\n",
    "sum"
   ]
  },
  {
   "cell_type": "code",
   "execution_count": 6,
   "metadata": {},
   "outputs": [],
   "source": [
    "all_mls_cuts = pickle.load(open(\"res/results/mls.p\", \"rb\"))\n",
    "all_ils_cuts = pickle.load(open(\"res/results/ils.p\", \"rb\"))\n",
    "all_genetic_res = pickle.load(open(\"res/results/genetic.p\", \"rb\"))\n"
   ]
  },
  {
   "cell_type": "code",
   "execution_count": 7,
   "metadata": {},
   "outputs": [
    {
     "data": {
      "text/plain": [
       "20"
      ]
     },
     "execution_count": 7,
     "metadata": {},
     "output_type": "execute_result"
    }
   ],
   "source": [
    "len(all_genetic_res)"
   ]
  },
  {
   "cell_type": "code",
   "execution_count": 8,
   "metadata": {},
   "outputs": [],
   "source": [
    "all_cuts_gen = []\n",
    "for testRun in all_genetic_res:\n",
    "    cuts_per_run = []\n",
    "    for cut, _ in testRun:\n",
    "        cuts_per_run.append(cut)\n",
    "    all_cuts_gen.append(cuts_per_run)"
   ]
  },
  {
   "cell_type": "code",
   "execution_count": 9,
   "metadata": {},
   "outputs": [],
   "source": [
    "min_mls_cuts = [x[-1] for x in all_mls_cuts]\n",
    "min_ils_cuts = [x[-1] for x in all_ils_cuts]\n",
    "min_gen_cuts = [x[-1] for x in all_cuts_gen]"
   ]
  },
  {
   "cell_type": "code",
   "execution_count": 10,
   "metadata": {},
   "outputs": [
    {
     "name": "stdout",
     "output_type": "stream",
     "text": [
      "hi\n"
     ]
    },
    {
     "data": {
      "image/png": "[encoded data removed]",
      "text/plain": [
       "<Figure size 432x288 with 1 Axes>"
      ]
     },
     "metadata": {
      "needs_background": "light"
     },
     "output_type": "display_data"
    }
   ],
   "source": [
    "plt.boxplot([min_mls_cuts, min_ils_cuts, min_gen_cuts], labels=[\"mls\", \"ils\", \"genetic\"])\n",
    "plt.savefig(\"res/results/boxplotcomparison\")\n",
    "print(\"hi\")"
   ]
  },
  {
   "cell_type": "code",
   "execution_count": 20,
   "metadata": {},
   "outputs": [
    {
     "data": {
      "text/plain": [
       "20"
      ]
     },
     "execution_count": 20,
     "metadata": {},
     "output_type": "execute_result"
    }
   ],
   "source": [
    "len(all_ils_cuts)"
   ]
  },
  {
   "cell_type": "code",
   "execution_count": 11,
   "metadata": {},
   "outputs": [],
   "source": [
    "def getAvgsAndStd(all_cuts):\n",
    "    avg = []\n",
    "\n",
    "    for k in range(10000):\n",
    "        sum = 0\n",
    "        cnt = 0        \n",
    "        for i in range(20):\n",
    "            if len(all_cuts[i]) > k:\n",
    "                sum += all_cuts[i][k]\n",
    "                cnt += 1\n",
    "        if cnt > 0:\n",
    "            avg.append(sum/cnt)\n",
    "\n",
    "    std = []\n",
    "    for k in range(10000):\n",
    "        std_sum = 0\n",
    "        cnt = 0        \n",
    "        for i in range(20):\n",
    "            if len(all_cuts[i]) > k:\n",
    "                \n",
    "                std_sum += (avg[k] - all_cuts[i][k]) ** 2\n",
    "                \n",
    "                cnt += 1\n",
    "        if cnt > 0:\n",
    "            std.append(math.sqrt(std_sum/cnt))\n",
    "    return avg, std\n",
    "    "
   ]
  },
  {
   "cell_type": "code",
   "execution_count": null,
   "metadata": {},
   "outputs": [],
   "source": []
  },
  {
   "cell_type": "code",
   "execution_count": 13,
   "metadata": {},
   "outputs": [],
   "source": [
    "ils_avg, ils_std = getAvgsAndStd(all_ils_cuts)\n",
    "mls_avg, mls_std = getAvgsAndStd(all_mls_cuts)\n",
    "gen_avg, gen_std = getAvgsAndStd(all_cuts_gen)"
   ]
  },
  {
   "cell_type": "code",
   "execution_count": 14,
   "metadata": {},
   "outputs": [
    {
     "name": "stderr",
     "output_type": "stream",
     "text": [
      "No artists with labels found to put in legend.  Note that artists whose label start with an underscore are ignored when legend() is called with no argument.\n"
     ]
    },
    {
     "data": {
      "image/png": "[encoded data removed]",
      "text/plain": [
       "<Figure size 432x288 with 1 Axes>"
      ]
     },
     "metadata": {
      "needs_background": "light"
     },
     "output_type": "display_data"
    }
   ],
   "source": [
    "\n",
    "fig, ax = plt.subplots()\n",
    "ax.fill_between(range(len(ils_avg)), np.array(ils_avg) + np.array(ils_std), np.array(ils_avg) - np.array(ils_std), alpha=.5, linewidth=0)\n",
    "plt.plot(ils_avg)\n",
    "plt.ylabel('cuts')\n",
    "plt.legend()\n",
    "plt.xlabel('fm search iteration')\n",
    "plt.ylim(0, 50)\n",
    "plt.show()\n"
   ]
  },
  {
   "cell_type": "code",
   "execution_count": 15,
   "metadata": {},
   "outputs": [
    {
     "name": "stderr",
     "output_type": "stream",
     "text": [
      "No artists with labels found to put in legend.  Note that artists whose label start with an underscore are ignored when legend() is called with no argument.\n"
     ]
    },
    {
     "data": {
      "image/png": "[encoded data removed]",
      "text/plain": [
       "<Figure size 432x288 with 1 Axes>"
      ]
     },
     "metadata": {
      "needs_background": "light"
     },
     "output_type": "display_data"
    }
   ],
   "source": [
    "\n",
    "fig, ax = plt.subplots()\n",
    "ax.fill_between(range(len(gen_avg)), np.array(gen_avg) + np.array(gen_std), np.array(gen_avg) - np.array(gen_std), alpha=.5, linewidth=0)\n",
    "plt.plot(gen_avg)\n",
    "plt.ylabel('cuts')\n",
    "plt.legend()\n",
    "plt.xlabel('fm search iteration')\n",
    "plt.ylim(0, 50)\n",
    "plt.show()\n"
   ]
  },
  {
   "cell_type": "code",
   "execution_count": 19,
   "metadata": {},
   "outputs": [
    {
     "data": {
      "text/plain": [
       "4861"
      ]
     },
     "execution_count": 19,
     "metadata": {},
     "output_type": "execute_result"
    }
   ],
   "source": [
    "len(ils_avg)"
   ]
  },
  {
   "cell_type": "code",
   "execution_count": 17,
   "metadata": {},
   "outputs": [
    {
     "ename": "ValueError",
     "evalue": "The samples x and y must have the same length.",
     "output_type": "error",
     "traceback": [
      "\u001b[1;31m---------------------------------------------------------------------------\u001b[0m",
      "\u001b[1;31mValueError\u001b[0m                                Traceback (most recent call last)",
      "\u001b[1;32m~\\AppData\\Local\\Temp/ipykernel_24848/3358885671.py\u001b[0m in \u001b[0;36m<module>\u001b[1;34m\u001b[0m\n\u001b[1;32m----> 1\u001b[1;33m \u001b[0mwilcoxon\u001b[0m\u001b[1;33m(\u001b[0m\u001b[0mgen_avg\u001b[0m\u001b[1;33m,\u001b[0m \u001b[0mils_avg\u001b[0m\u001b[1;33m)\u001b[0m\u001b[1;33m\u001b[0m\u001b[1;33m\u001b[0m\u001b[0m\n\u001b[0m",
      "\u001b[1;32mc:\\Users\\robin\\AppData\\Local\\Programs\\Python\\Python38\\lib\\site-packages\\scipy\\stats\\morestats.py\u001b[0m in \u001b[0;36mwilcoxon\u001b[1;34m(x, y, zero_method, correction, alternative)\u001b[0m\n\u001b[0;32m   2862\u001b[0m             \u001b[1;32mraise\u001b[0m \u001b[0mValueError\u001b[0m\u001b[1;33m(\u001b[0m\u001b[1;34m'Samples x and y must be one-dimensional.'\u001b[0m\u001b[1;33m)\u001b[0m\u001b[1;33m\u001b[0m\u001b[1;33m\u001b[0m\u001b[0m\n\u001b[0;32m   2863\u001b[0m         \u001b[1;32mif\u001b[0m \u001b[0mlen\u001b[0m\u001b[1;33m(\u001b[0m\u001b[0mx\u001b[0m\u001b[1;33m)\u001b[0m \u001b[1;33m!=\u001b[0m \u001b[0mlen\u001b[0m\u001b[1;33m(\u001b[0m\u001b[0my\u001b[0m\u001b[1;33m)\u001b[0m\u001b[1;33m:\u001b[0m\u001b[1;33m\u001b[0m\u001b[1;33m\u001b[0m\u001b[0m\n\u001b[1;32m-> 2864\u001b[1;33m             \u001b[1;32mraise\u001b[0m \u001b[0mValueError\u001b[0m\u001b[1;33m(\u001b[0m\u001b[1;34m'The samples x and y must have the same length.'\u001b[0m\u001b[1;33m)\u001b[0m\u001b[1;33m\u001b[0m\u001b[1;33m\u001b[0m\u001b[0m\n\u001b[0m\u001b[0;32m   2865\u001b[0m         \u001b[0md\u001b[0m \u001b[1;33m=\u001b[0m \u001b[0mx\u001b[0m \u001b[1;33m-\u001b[0m \u001b[0my\u001b[0m\u001b[1;33m\u001b[0m\u001b[1;33m\u001b[0m\u001b[0m\n\u001b[0;32m   2866\u001b[0m \u001b[1;33m\u001b[0m\u001b[0m\n",
      "\u001b[1;31mValueError\u001b[0m: The samples x and y must have the same length."
     ]
    }
   ],
   "source": [
    "\n",
    "wilcoxon(gen_avg, ils_avg)"
   ]
  }
 ],
 "metadata": {
  "kernelspec": {
   "display_name": "uu_courses",
   "language": "python",
   "name": "python3"
  },
  "language_info": {
   "codemirror_mode": {
    "name": "ipython",
    "version": 3
   },
   "file_extension": ".py",
   "mimetype": "text/x-python",
   "name": "python",
   "nbconvert_exporter": "python",
   "pygments_lexer": "ipython3",
   "version": "3.8.2"
  }
 },
 "nbformat": 4,
 "nbformat_minor": 2
}
